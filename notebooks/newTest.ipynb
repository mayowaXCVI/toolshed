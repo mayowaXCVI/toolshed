{
 "cells": [
  {
   "cell_type": "code",
   "execution_count": 4,
   "id": "0ce2d222",
   "metadata": {},
   "outputs": [],
   "source": [
    "import os\n",
    "import sys, os\n",
    "sys.path.append(os.path.join(os.curdir, '..', 'tools'))"
   ]
  },
  {
   "cell_type": "code",
   "execution_count": null,
   "id": "d77b9fa6",
   "metadata": {},
   "outputs": [],
   "source": []
  },
  {
   "cell_type": "code",
   "execution_count": 8,
   "id": "da0a553f",
   "metadata": {},
   "outputs": [],
   "source": [
    "import helloM"
   ]
  },
  {
   "cell_type": "code",
   "execution_count": 12,
   "id": "e710c9af",
   "metadata": {},
   "outputs": [
    {
     "data": {
      "text/plain": [
       "'hello hi'"
      ]
     },
     "execution_count": 12,
     "metadata": {},
     "output_type": "execute_result"
    }
   ],
   "source": [
    "import helloM\n",
    "helloer('hi')"
   ]
  },
  {
   "cell_type": "code",
   "execution_count": null,
   "id": "4767fa70",
   "metadata": {},
   "outputs": [],
   "source": []
  }
 ],
 "metadata": {
  "kernelspec": {
   "display_name": "Python 3",
   "language": "python",
   "name": "python3"
  },
  "language_info": {
   "codemirror_mode": {
    "name": "ipython",
    "version": 3
   },
   "file_extension": ".py",
   "mimetype": "text/x-python",
   "name": "python",
   "nbconvert_exporter": "python",
   "pygments_lexer": "ipython3",
   "version": "3.9.6"
  }
 },
 "nbformat": 4,
 "nbformat_minor": 5
}
